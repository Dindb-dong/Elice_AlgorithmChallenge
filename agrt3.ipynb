{
 "cells": [
  {
   "cell_type": "code",
   "execution_count": 2,
   "metadata": {},
   "outputs": [
    {
     "name": "stdout",
     "output_type": "stream",
     "text": [
      "e\n",
      "l\n",
      "p\n",
      "p\n",
      "a\n"
     ]
    }
   ],
   "source": [
    "a=\"apple\"\n",
    "b = reversed(a)\n",
    "for i in b:\n",
    "    print(i)"
   ]
  },
  {
   "cell_type": "code",
   "execution_count": 65,
   "metadata": {},
   "outputs": [
    {
     "name": "stdout",
     "output_type": "stream",
     "text": [
      "length is 8\n",
      "[5, 6, 7]\n",
      "733\n",
      "733733\n",
      "733733\n",
      "6\n"
     ]
    }
   ],
   "source": [
    "def isnumeric(s):\n",
    "    try:\n",
    "        float(s)\n",
    "        return True\n",
    "    except ValueError:\n",
    "        return False\n",
    "\n",
    "def K_Q(K,Q):\n",
    "    q = str(Q)\n",
    "    k = int(K)\n",
    "    return q * k # q를 k만큼 반복 \n",
    "\n",
    "def decompress():\n",
    "    init = str(input())\n",
    "    temp = 'b'\n",
    "    index = []\n",
    "    a = init[::-1]\n",
    "    print(f'length is {len(a)}')\n",
    "    for u in range(len(a)):\n",
    "        index.append(u)\n",
    "\n",
    "    for i in index:\n",
    "        if isnumeric(a[i]):\n",
    "            temp = K_Q(a[i+2], a[i])\n",
    "            print(index[i+3:]) # 여기까진 맞음 \n",
    "            for j in index[i+3:]:\n",
    "                if a[j] == '(' : \n",
    "                    temp = K_Q(a[j+1], temp)\n",
    "                elif a[j-1] == '(': \n",
    "                    pass\n",
    "                else: temp = str(a[j]) + temp\n",
    "                print(temp)\n",
    "            break\n",
    "        else: pass\n",
    "    print(len(temp))\n",
    "\n",
    "decompress()\n"
   ]
  },
  {
   "cell_type": "code",
   "execution_count": null,
   "metadata": {},
   "outputs": [],
   "source": []
  },
  {
   "cell_type": "code",
   "execution_count": null,
   "metadata": {},
   "outputs": [],
   "source": []
  }
 ],
 "metadata": {
  "kernelspec": {
   "display_name": "base",
   "language": "python",
   "name": "python3"
  },
  "language_info": {
   "codemirror_mode": {
    "name": "ipython",
    "version": 3
   },
   "file_extension": ".py",
   "mimetype": "text/x-python",
   "name": "python",
   "nbconvert_exporter": "python",
   "pygments_lexer": "ipython3",
   "version": "3.11.7"
  }
 },
 "nbformat": 4,
 "nbformat_minor": 2
}
