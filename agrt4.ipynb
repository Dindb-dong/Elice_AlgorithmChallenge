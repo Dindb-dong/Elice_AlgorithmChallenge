{
 "cells": [
  {
   "cell_type": "code",
   "execution_count": null,
   "metadata": {},
   "outputs": [],
   "source": [
    "from collections import defaultdict\n",
    "import sys\n",
    "sys.setrecursionlimit(200000)\n",
    "\n",
    "def dfs(node, parent):\n",
    "    is_leaf = True\n",
    "    for child in tree[node]:\n",
    "        if child != parent:\n",
    "            is_leaf = False\n",
    "            dfs(child, node)\n",
    "            if result[child] == 0:\n",
    "                result[node] = 1\n",
    "    if is_leaf:\n",
    "        result[node] = 1\n",
    "    if result[node] == -1:\n",
    "        result[node] = 0\n",
    "\n",
    "def solve_game(N, edges):\n",
    "    global tree, result\n",
    "    tree = defaultdict(list)\n",
    "    result = [-1] * (N + 1)\n",
    "\n",
    "    for u, v in edges:\n",
    "        tree[u].append(v)\n",
    "        tree[v].append(u)\n",
    "\n",
    "    dfs(1, -1)\n",
    "\n",
    "    return result[1:]\n",
    "\n",
    "# 입력 처리\n",
    "N = int(input())\n",
    "edges = [tuple(map(int, input().split())) for _ in range(N - 1)]\n",
    "\n",
    "# 게임 결과 계산 및 출력\n",
    "results = solve_game(N, edges)\n",
    "for res in results:\n",
    "    print(1 if res == 1 else 0)"
   ]
  }
 ],
 "metadata": {
  "language_info": {
   "name": "python"
  }
 },
 "nbformat": 4,
 "nbformat_minor": 2
}
