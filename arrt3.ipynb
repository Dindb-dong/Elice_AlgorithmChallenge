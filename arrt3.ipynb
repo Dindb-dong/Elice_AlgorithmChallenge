{
 "cells": [
  {
   "cell_type": "code",
   "execution_count": 19,
   "metadata": {},
   "outputs": [
    {
     "name": "stdout",
     "output_type": "stream",
     "text": [
      "[]\n",
      "['(']\n"
     ]
    },
    {
     "data": {
      "text/plain": [
       "0"
      ]
     },
     "execution_count": 19,
     "metadata": {},
     "output_type": "execute_result"
    }
   ],
   "source": [
    "def isnumeric(s):\n",
    "    try:\n",
    "        float(s)\n",
    "        return True\n",
    "    except ValueError:\n",
    "        return False\n",
    "\n",
    "def decompress ():\n",
    "    compressed_input = input()\n",
    "    final_length = []\n",
    "    not_num = []\n",
    "    gualhos = ['(', ')']\n",
    "    for i in range(len(compressed_input)) :\n",
    "        if compressed_input[i] in gualhos :\n",
    "            err = compressed_input[i]\n",
    "            not_num.append(err)\n",
    "\n",
    "    for j in range(len(compressed_input)) :\n",
    "        if isnumeric(compressed_input[j]) and j<len(compressed_input):\n",
    "            if compressed_input[j+1] not in gualhos :\n",
    "                ch = int(compressed_input[j])\n",
    "                final_length.append(ch)\n",
    "        else : print(\"nope\")\n",
    "    print(final_length)\n",
    "    print(not_num)\n",
    "    return len(final_length)\n",
    "    \n",
    "\n",
    "decompress()\n"
   ]
  },
  {
   "cell_type": "code",
   "execution_count": null,
   "metadata": {},
   "outputs": [],
   "source": []
  }
 ],
 "metadata": {
  "kernelspec": {
   "display_name": "Python 3",
   "language": "python",
   "name": "python3"
  },
  "language_info": {
   "codemirror_mode": {
    "name": "ipython",
    "version": 3
   },
   "file_extension": ".py",
   "mimetype": "text/x-python",
   "name": "python",
   "nbconvert_exporter": "python",
   "pygments_lexer": "ipython3",
   "version": "3.11.7"
  }
 },
 "nbformat": 4,
 "nbformat_minor": 2
}
